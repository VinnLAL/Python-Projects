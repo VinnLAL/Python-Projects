{
 "cells": [
  {
   "cell_type": "code",
   "execution_count": 3,
   "id": "57021eee",
   "metadata": {},
   "outputs": [
    {
     "name": "stdout",
     "output_type": "stream",
     "text": [
      "Satminder is enrolled in Heat Transfer class.\n"
     ]
    }
   ],
   "source": [
    "# Positional Arguments\n",
    "def student_information(class_name, student_name):\n",
    "    # Display information about a student and his class.\n",
    "    print(student_name + \" is enrolled in \" + class_name + \" class.\")\n",
    "\n",
    "student_information(\"Heat Transfer\", \"Satminder\")"
   ]
  },
  {
   "cell_type": "code",
   "execution_count": null,
   "id": "6feb0139",
   "metadata": {},
   "outputs": [],
   "source": []
  },
  {
   "cell_type": "code",
   "execution_count": 6,
   "id": "529bbdc4",
   "metadata": {},
   "outputs": [
    {
     "name": "stdout",
     "output_type": "stream",
     "text": [
      "Satminder is enrolled in Heat Transfer class.\n"
     ]
    }
   ],
   "source": [
    "# Keyword Arguments\n",
    "def student_information(class_name, student_name):\n",
    "    # Display information about a student and his class.\n",
    "    print(student_name + \" is enrolled in \" + class_name + \" class.\")\n",
    "\n",
    "student_information(student_name = \"Satminder\", class_name = \"Heat Transfer\")\n"
   ]
  },
  {
   "cell_type": "code",
   "execution_count": null,
   "id": "4825b615",
   "metadata": {},
   "outputs": [],
   "source": []
  },
  {
   "cell_type": "code",
   "execution_count": 5,
   "id": "8220c449",
   "metadata": {},
   "outputs": [
    {
     "name": "stdout",
     "output_type": "stream",
     "text": [
      "Student Name: Hila\n",
      "Enrolled Course: Introduction to Python\n"
     ]
    }
   ],
   "source": [
    "# Default Arguments\n",
    "def enroll_student(student_name, course= \"Introduction to Python\"):\n",
    "    # Enroll a student with his class\n",
    "    print(\"Student Name: \" + student_name)\n",
    "    print(\"Enrolled Course: \" + course)\n",
    "\n",
    "enroll_student(\"Hila\")"
   ]
  },
  {
   "cell_type": "code",
   "execution_count": 7,
   "id": "99e2980b",
   "metadata": {},
   "outputs": [
    {
     "name": "stdout",
     "output_type": "stream",
     "text": [
      "Student: Sara\n",
      "Enrolled in:\n",
      "- English\n",
      "- Heat Transfer\n",
      "- Mass Transfer\n"
     ]
    }
   ],
   "source": [
    "# Variable-length arguments\n",
    "\n",
    "def enroll_in_courses(student_name, *courses):\n",
    "    # Enroll a student in multiple courses.\n",
    "    print(\"Student: \" + student_name)\n",
    "    print(\"Enrolled in:\")\n",
    "    \n",
    "    for course in courses:\n",
    "        print(\"- \" + course)\n",
    "        \n",
    "enroll_in_courses(\"Sara\", \"English\", \"Heat Transfer\", \"Mass Transfer\")"
   ]
  },
  {
   "cell_type": "code",
   "execution_count": 14,
   "id": "e2e20014",
   "metadata": {},
   "outputs": [
    {
     "name": "stdout",
     "output_type": "stream",
     "text": [
      "Enrolling Smith with the following details:\n",
      "- Course: Algebra II\n",
      "- Semester: One\n",
      "- Payment Method: Credit Card\n"
     ]
    }
   ],
   "source": [
    "# Variable Length Arguments\n",
    "\n",
    "def enroll_student(student_name, **details):\n",
    "     # Enroll a student with additional details.\n",
    "    print(\"Enrolling \" + student_name + \" with the following details:\")\n",
    "    for detail, value in details.items():\n",
    "        print(\"- \" + detail.replace('_', ' ').title() + \": \" + str(value))\n",
    "enroll_student(\"Smith\", course='Algebra II', semester='One', payment_method='Credit Card')\n"
   ]
  },
  {
   "cell_type": "code",
   "execution_count": 19,
   "id": "aa085cd1",
   "metadata": {},
   "outputs": [
    {
     "name": "stdout",
     "output_type": "stream",
     "text": [
      "Haha And A\n",
      "Hehe And B\n",
      "Hihi And C\n"
     ]
    }
   ],
   "source": [
    "tuple_list = [(\"Haha\",\"A\") , (\"Hehe\", \"B\"), (\"Hihi\", \"C\")]\n",
    "\n",
    "for (First,Second) in tuple_list:\n",
    "    print(First + \" And \" + Second)"
   ]
  },
  {
   "cell_type": "code",
   "execution_count": 6,
   "id": "e7a08dfb",
   "metadata": {},
   "outputs": [
    {
     "name": "stdout",
     "output_type": "stream",
     "text": [
      "Checkout Processed by: Ali\n",
      "Books Checked Out: \n",
      "- 1984\n",
      "- Brave New World\n",
      "Checkout Duration: 2 weeks\n",
      "Additional Checkout Details: \n",
      "- Late Fee: $0.25\n",
      "- Renewals Allowed: 2\n",
      "- Special: ['Handle with care']\n",
      "Special Conditions for Checkout: \n",
      "- Handle with care\n"
     ]
    }
   ],
   "source": [
    "#Assignment 4\n",
    "\n",
    "def checkout_books(librarian_name, *book_titles, duration=\"2 weeks\", **additional):\n",
    "    print(\"Checkout Processed by: \" + librarian_name)\n",
    "    \n",
    "    print(\"Books Checked Out: \")\n",
    "    for title in book_titles:\n",
    "        print(\"- \" + title)\n",
    "    \n",
    "    print(\"Checkout Duration: \" + duration)\n",
    "    \n",
    "    print(\"Additional Checkout Details: \")\n",
    "    \n",
    "    for key,value in additional.items():\n",
    "        print(\"- \" + key.replace(\"_\",\" \").title() + \": \" + str(value))\n",
    "        \n",
    "    if \"special\" in additional:\n",
    "        print(\"Special Conditions for Checkout: \")\n",
    "        \n",
    "        for condition in additional[\"special\"]:\n",
    "            print(\"- \" + condition)\n",
    "        \n",
    "checkout_books(\"Ali\", \"1984\", \"Brave New World\", Late_Fee= \"$0.25\", Renewals_Allowed= 2, special = [\"Handle with care\",\"\"])"
   ]
  },
  {
   "cell_type": "code",
   "execution_count": null,
   "id": "58dc1beb",
   "metadata": {},
   "outputs": [],
   "source": []
  }
 ],
 "metadata": {
  "kernelspec": {
   "display_name": "Python 3 (ipykernel)",
   "language": "python",
   "name": "python3"
  },
  "language_info": {
   "codemirror_mode": {
    "name": "ipython",
    "version": 3
   },
   "file_extension": ".py",
   "mimetype": "text/x-python",
   "name": "python",
   "nbconvert_exporter": "python",
   "pygments_lexer": "ipython3",
   "version": "3.11.5"
  }
 },
 "nbformat": 4,
 "nbformat_minor": 5
}
