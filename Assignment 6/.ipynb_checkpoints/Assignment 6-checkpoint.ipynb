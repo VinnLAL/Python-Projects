{
 "cells": [
  {
   "cell_type": "code",
   "execution_count": 3,
   "id": "d13eb399",
   "metadata": {},
   "outputs": [
    {
     "name": "stdout",
     "output_type": "stream",
     "text": [
      "The outlet gas temperature is 543.107260836771 degree C\n"
     ]
    }
   ],
   "source": [
    "import math\n",
    "from ht import *\n",
    "\n",
    "\"\"\"\"\n",
    "# Heat Transfer KIL2006 Tutorial 7 Question 3\n",
    "Question:\n",
    "Exhaust gases from a wire processing oven are dis-charged into a tall stack, and the gas and stack surface temperatures\n",
    "at the outlet of the stack must be estimated. Knowledge of the outlet gas temperature Tm,o is useful for predicting the \n",
    "dispersion of effluents in the thermal plume, while knowledge of the outlet stack surface temperature Ts,o indicates whether \n",
    "condensation of the gas products will occur. The thin-walled, cylindrical stack is 0.5 m in diameter and 6.0 m high. \n",
    "The exhaust gas flow rate is 0.5 kg/s, and the inlet temperature is 600°C.\n",
    "\n",
    "Consider conditions for which the ambient air temperature and wind velocity are 4°C and 5m/s, respectively. Approximating \n",
    "the thermophysical properties of the gas as those of atmospheric air, estimate the outlet gas and stack surface temperatures\n",
    "for the given conditions. \n",
    "\n",
    "\"\"\"\n",
    "\n",
    "# Values extracted from question\n",
    "L = 6\n",
    "D = 0.5\n",
    "Tmi = 600\n",
    "Tinf = 4\n",
    "massflow = 0.5\n",
    "windspeed = 5\n",
    "\n",
    "# For internal flow\n",
    "# Values of exhaust gases (air) at 873K from table\n",
    "k1 = 0.0584\n",
    "Cp1 = 1104\n",
    "viscosity1 = 376.4 * 10**(-7)\n",
    "Pr1 = 0.712\n",
    "\n",
    "Re1 = (4*massflow)/(math.pi*D*viscosity1)\n",
    "# Correlation used from ht module\n",
    "Nu1 = turbulent_Dittus_Boelter(Re=Re1, Pr=Pr1, heating=False, revised=True)\n",
    "h1 = ((Nu1*k1)/D)\n",
    "\n",
    "# For External Flow\n",
    "# Values of ambient air at 277K from table\n",
    "k2 = 33.8 * 10**(-3)\n",
    "kviscosity2 = 26.41 * 10**(-6)\n",
    "Pr2 = 0.690\n",
    "\n",
    "Re2 = (windspeed*D/kviscosity2)\n",
    "# Correlation used from ht module\n",
    "Nu2 = Nu_cylinder_Churchill_Bernstein(Re2, Pr2)\n",
    "h2 = ((Nu2 * k2)/D)\n",
    "\n",
    "# Overall convection heat transfer coefficient, U\n",
    "U = (1/((1/h1) + (1/h2)))\n",
    "\n",
    "# Using the formula (Tinf - Tm,o)/(Tinf - Tm,i) = exp(-A*U/m*Cp), Tm,o is found\n",
    "T = Tinf - math.exp(((-(math.pi)*D*L)/(massflow*Cp1))*U)*(Tinf-Tmi)\n",
    "print(f'The outlet gas temperature is {T} degree C' )"
   ]
  },
  {
   "cell_type": "code",
   "execution_count": null,
   "id": "ecf88873",
   "metadata": {},
   "outputs": [],
   "source": []
  }
 ],
 "metadata": {
  "kernelspec": {
   "display_name": "Python 3 (ipykernel)",
   "language": "python",
   "name": "python3"
  },
  "language_info": {
   "codemirror_mode": {
    "name": "ipython",
    "version": 3
   },
   "file_extension": ".py",
   "mimetype": "text/x-python",
   "name": "python",
   "nbconvert_exporter": "python",
   "pygments_lexer": "ipython3",
   "version": "3.11.5"
  }
 },
 "nbformat": 4,
 "nbformat_minor": 5
}
