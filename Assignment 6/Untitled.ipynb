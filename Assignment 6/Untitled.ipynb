{
 "cells": [
  {
   "cell_type": "code",
   "execution_count": 1,
   "id": "fad5eb20",
   "metadata": {},
   "outputs": [
    {
     "ename": "ModuleNotFoundError",
     "evalue": "No module named 'chempy'",
     "output_type": "error",
     "traceback": [
      "\u001b[1;31m---------------------------------------------------------------------------\u001b[0m",
      "\u001b[1;31mModuleNotFoundError\u001b[0m                       Traceback (most recent call last)",
      "Cell \u001b[1;32mIn[1], line 1\u001b[0m\n\u001b[1;32m----> 1\u001b[0m \u001b[38;5;28;01mimport\u001b[39;00m \u001b[38;5;21;01mchempy\u001b[39;00m\n\u001b[0;32m      3\u001b[0m Re \u001b[38;5;241m=\u001b[39m Reynolds(V\u001b[38;5;241m=\u001b[39m\u001b[38;5;241m30\u001b[39m, rho\u001b[38;5;241m=\u001b[39m\u001b[38;5;241m1.2\u001b[39m, mu\u001b[38;5;241m=\u001b[39m\u001b[38;5;241m1E-5\u001b[39m, D\u001b[38;5;241m=\u001b[39m\u001b[38;5;241m1E-3\u001b[39m)\n",
      "\u001b[1;31mModuleNotFoundError\u001b[0m: No module named 'chempy'"
     ]
    }
   ],
   "source": [
    "import chempy\n",
    "\n",
    "Re = Reynolds(V=30, rho=1.2, mu=1E-5, D=1E-3)"
   ]
  },
  {
   "cell_type": "code",
   "execution_count": 2,
   "id": "85be4779",
   "metadata": {},
   "outputs": [
    {
     "name": "stdout",
     "output_type": "stream",
     "text": [
      "^C\n",
      "Note: you may need to restart the kernel to use updated packages.\n"
     ]
    }
   ],
   "source": [
    "pip install chempy"
   ]
  },
  {
   "cell_type": "code",
   "execution_count": 3,
   "id": "aaf44dfd",
   "metadata": {},
   "outputs": [
    {
     "ename": "ModuleNotFoundError",
     "evalue": "No module named 'chempy'",
     "output_type": "error",
     "traceback": [
      "\u001b[1;31m---------------------------------------------------------------------------\u001b[0m",
      "\u001b[1;31mModuleNotFoundError\u001b[0m                       Traceback (most recent call last)",
      "Cell \u001b[1;32mIn[3], line 1\u001b[0m\n\u001b[1;32m----> 1\u001b[0m \u001b[38;5;28;01mimport\u001b[39;00m \u001b[38;5;21;01mchempy\u001b[39;00m\n\u001b[0;32m      3\u001b[0m Re \u001b[38;5;241m=\u001b[39m Reynolds(V\u001b[38;5;241m=\u001b[39m\u001b[38;5;241m30\u001b[39m, rho\u001b[38;5;241m=\u001b[39m\u001b[38;5;241m1.2\u001b[39m, mu\u001b[38;5;241m=\u001b[39m\u001b[38;5;241m1E-5\u001b[39m, D\u001b[38;5;241m=\u001b[39m\u001b[38;5;241m1E-3\u001b[39m)\n",
      "\u001b[1;31mModuleNotFoundError\u001b[0m: No module named 'chempy'"
     ]
    }
   ],
   "source": [
    "import chempy\n",
    "\n",
    "Re = Reynolds(V=30, rho=1.2, mu=1E-5, D=1E-3)"
   ]
  },
  {
   "cell_type": "code",
   "execution_count": 1,
   "id": "417ade5a",
   "metadata": {},
   "outputs": [
    {
     "ename": "NameError",
     "evalue": "name 'Reynolds' is not defined",
     "output_type": "error",
     "traceback": [
      "\u001b[1;31m---------------------------------------------------------------------------\u001b[0m",
      "\u001b[1;31mNameError\u001b[0m                                 Traceback (most recent call last)",
      "Cell \u001b[1;32mIn[1], line 3\u001b[0m\n\u001b[0;32m      1\u001b[0m \u001b[38;5;28;01mimport\u001b[39;00m \u001b[38;5;21;01mchempy\u001b[39;00m\n\u001b[1;32m----> 3\u001b[0m Re \u001b[38;5;241m=\u001b[39m Reynolds(V\u001b[38;5;241m=\u001b[39m\u001b[38;5;241m30\u001b[39m, rho\u001b[38;5;241m=\u001b[39m\u001b[38;5;241m1.2\u001b[39m, mu\u001b[38;5;241m=\u001b[39m\u001b[38;5;241m1E-5\u001b[39m, D\u001b[38;5;241m=\u001b[39m\u001b[38;5;241m1E-3\u001b[39m)\n",
      "\u001b[1;31mNameError\u001b[0m: name 'Reynolds' is not defined"
     ]
    }
   ],
   "source": [
    "import chempy\n",
    "\n",
    "Re = Reynolds(V=30, rho=1.2, mu=1E-5, D=1E-3)"
   ]
  },
  {
   "cell_type": "code",
   "execution_count": 2,
   "id": "778fce52",
   "metadata": {},
   "outputs": [],
   "source": [
    "import chempy\n"
   ]
  },
  {
   "cell_type": "code",
   "execution_count": 3,
   "id": "7df0f74c",
   "metadata": {},
   "outputs": [
    {
     "name": "stdout",
     "output_type": "stream",
     "text": [
      "Requirement already satisfied: chempy in c:\\users\\vinn\\anaconda3\\lib\\site-packages (0.8.3)\n",
      "Requirement already satisfied: dot2tex>=2.11.3 in c:\\users\\vinn\\anaconda3\\lib\\site-packages (from chempy) (2.11.3)\n",
      "Requirement already satisfied: matplotlib>=2.2.3 in c:\\users\\vinn\\anaconda3\\lib\\site-packages (from chempy) (3.7.2)\n",
      "Requirement already satisfied: numpy>1.11.3 in c:\\users\\vinn\\anaconda3\\lib\\site-packages (from chempy) (1.24.3)\n",
      "Requirement already satisfied: pulp>=1.6.8 in c:\\users\\vinn\\anaconda3\\lib\\site-packages (from chempy) (2.7.0)\n",
      "Requirement already satisfied: pyneqsys>=0.5.5 in c:\\users\\vinn\\anaconda3\\lib\\site-packages (from chempy) (0.5.7)\n",
      "Requirement already satisfied: pyodesys>=0.14.1 in c:\\users\\vinn\\anaconda3\\lib\\site-packages (from chempy) (0.14.2)\n",
      "Requirement already satisfied: pyparsing>=2.0.3 in c:\\users\\vinn\\anaconda3\\lib\\site-packages (from chempy) (3.0.9)\n",
      "Requirement already satisfied: quantities>=0.12.1 in c:\\users\\vinn\\anaconda3\\lib\\site-packages (from chempy) (0.15.0)\n",
      "Requirement already satisfied: scipy>=1.0.1 in c:\\users\\vinn\\anaconda3\\lib\\site-packages (from chempy) (1.11.1)\n",
      "Requirement already satisfied: sym>=0.3.4 in c:\\users\\vinn\\anaconda3\\lib\\site-packages (from chempy) (0.3.5)\n",
      "Requirement already satisfied: sympy!=1.2,>=1.1.1 in c:\\users\\vinn\\anaconda3\\lib\\site-packages (from chempy) (1.11.1)\n",
      "Requirement already satisfied: contourpy>=1.0.1 in c:\\users\\vinn\\anaconda3\\lib\\site-packages (from matplotlib>=2.2.3->chempy) (1.0.5)\n",
      "Requirement already satisfied: cycler>=0.10 in c:\\users\\vinn\\anaconda3\\lib\\site-packages (from matplotlib>=2.2.3->chempy) (0.11.0)\n",
      "Requirement already satisfied: fonttools>=4.22.0 in c:\\users\\vinn\\anaconda3\\lib\\site-packages (from matplotlib>=2.2.3->chempy) (4.25.0)\n",
      "Requirement already satisfied: kiwisolver>=1.0.1 in c:\\users\\vinn\\anaconda3\\lib\\site-packages (from matplotlib>=2.2.3->chempy) (1.4.4)\n",
      "Requirement already satisfied: packaging>=20.0 in c:\\users\\vinn\\anaconda3\\lib\\site-packages (from matplotlib>=2.2.3->chempy) (23.1)\n",
      "Requirement already satisfied: pillow>=6.2.0 in c:\\users\\vinn\\anaconda3\\lib\\site-packages (from matplotlib>=2.2.3->chempy) (9.4.0)\n",
      "Requirement already satisfied: python-dateutil>=2.7 in c:\\users\\vinn\\anaconda3\\lib\\site-packages (from matplotlib>=2.2.3->chempy) (2.8.2)\n",
      "Requirement already satisfied: notebook in c:\\users\\vinn\\anaconda3\\lib\\site-packages (from pyodesys>=0.14.1->chempy) (6.5.4)\n",
      "Requirement already satisfied: mpmath>=0.19 in c:\\users\\vinn\\anaconda3\\lib\\site-packages (from sympy!=1.2,>=1.1.1->chempy) (1.3.0)\n",
      "Requirement already satisfied: six>=1.5 in c:\\users\\vinn\\anaconda3\\lib\\site-packages (from python-dateutil>=2.7->matplotlib>=2.2.3->chempy) (1.16.0)\n",
      "Requirement already satisfied: jinja2 in c:\\users\\vinn\\anaconda3\\lib\\site-packages (from notebook->pyodesys>=0.14.1->chempy) (3.1.2)\n",
      "Requirement already satisfied: tornado>=6.1 in c:\\users\\vinn\\anaconda3\\lib\\site-packages (from notebook->pyodesys>=0.14.1->chempy) (6.3.2)\n",
      "Requirement already satisfied: pyzmq>=17 in c:\\users\\vinn\\anaconda3\\lib\\site-packages (from notebook->pyodesys>=0.14.1->chempy) (23.2.0)\n",
      "Requirement already satisfied: argon2-cffi in c:\\users\\vinn\\anaconda3\\lib\\site-packages (from notebook->pyodesys>=0.14.1->chempy) (21.3.0)\n",
      "Requirement already satisfied: traitlets>=4.2.1 in c:\\users\\vinn\\anaconda3\\lib\\site-packages (from notebook->pyodesys>=0.14.1->chempy) (5.7.1)\n",
      "Requirement already satisfied: jupyter-core>=4.6.1 in c:\\users\\vinn\\anaconda3\\lib\\site-packages (from notebook->pyodesys>=0.14.1->chempy) (5.3.0)\n",
      "Requirement already satisfied: jupyter-client>=5.3.4 in c:\\users\\vinn\\anaconda3\\lib\\site-packages (from notebook->pyodesys>=0.14.1->chempy) (7.4.9)\n",
      "Requirement already satisfied: ipython-genutils in c:\\users\\vinn\\anaconda3\\lib\\site-packages (from notebook->pyodesys>=0.14.1->chempy) (0.2.0)\n",
      "Requirement already satisfied: nbformat in c:\\users\\vinn\\anaconda3\\lib\\site-packages (from notebook->pyodesys>=0.14.1->chempy) (5.9.2)\n",
      "Requirement already satisfied: nbconvert>=5 in c:\\users\\vinn\\anaconda3\\lib\\site-packages (from notebook->pyodesys>=0.14.1->chempy) (6.5.4)\n",
      "Requirement already satisfied: nest-asyncio>=1.5 in c:\\users\\vinn\\anaconda3\\lib\\site-packages (from notebook->pyodesys>=0.14.1->chempy) (1.5.6)\n",
      "Requirement already satisfied: ipykernel in c:\\users\\vinn\\anaconda3\\lib\\site-packages (from notebook->pyodesys>=0.14.1->chempy) (6.25.0)\n",
      "Requirement already satisfied: Send2Trash>=1.8.0 in c:\\users\\vinn\\anaconda3\\lib\\site-packages (from notebook->pyodesys>=0.14.1->chempy) (1.8.0)\n",
      "Requirement already satisfied: terminado>=0.8.3 in c:\\users\\vinn\\anaconda3\\lib\\site-packages (from notebook->pyodesys>=0.14.1->chempy) (0.17.1)\n",
      "Requirement already satisfied: prometheus-client in c:\\users\\vinn\\anaconda3\\lib\\site-packages (from notebook->pyodesys>=0.14.1->chempy) (0.14.1)\n",
      "Requirement already satisfied: nbclassic>=0.4.7 in c:\\users\\vinn\\anaconda3\\lib\\site-packages (from notebook->pyodesys>=0.14.1->chempy) (0.5.5)\n",
      "Requirement already satisfied: entrypoints in c:\\users\\vinn\\anaconda3\\lib\\site-packages (from jupyter-client>=5.3.4->notebook->pyodesys>=0.14.1->chempy) (0.4)\n",
      "Requirement already satisfied: platformdirs>=2.5 in c:\\users\\vinn\\anaconda3\\lib\\site-packages (from jupyter-core>=4.6.1->notebook->pyodesys>=0.14.1->chempy) (3.10.0)\n",
      "Requirement already satisfied: pywin32>=300 in c:\\users\\vinn\\anaconda3\\lib\\site-packages (from jupyter-core>=4.6.1->notebook->pyodesys>=0.14.1->chempy) (305.1)\n",
      "Requirement already satisfied: jupyter-server>=1.8 in c:\\users\\vinn\\anaconda3\\lib\\site-packages (from nbclassic>=0.4.7->notebook->pyodesys>=0.14.1->chempy) (1.23.4)\n",
      "Requirement already satisfied: notebook-shim>=0.1.0 in c:\\users\\vinn\\anaconda3\\lib\\site-packages (from nbclassic>=0.4.7->notebook->pyodesys>=0.14.1->chempy) (0.2.2)\n",
      "Requirement already satisfied: lxml in c:\\users\\vinn\\anaconda3\\lib\\site-packages (from nbconvert>=5->notebook->pyodesys>=0.14.1->chempy) (4.9.3)\n",
      "Requirement already satisfied: beautifulsoup4 in c:\\users\\vinn\\anaconda3\\lib\\site-packages (from nbconvert>=5->notebook->pyodesys>=0.14.1->chempy) (4.12.2)\n",
      "Requirement already satisfied: bleach in c:\\users\\vinn\\anaconda3\\lib\\site-packages (from nbconvert>=5->notebook->pyodesys>=0.14.1->chempy) (4.1.0)\n",
      "Requirement already satisfied: defusedxml in c:\\users\\vinn\\anaconda3\\lib\\site-packages (from nbconvert>=5->notebook->pyodesys>=0.14.1->chempy) (0.7.1)\n",
      "Requirement already satisfied: jupyterlab-pygments in c:\\users\\vinn\\anaconda3\\lib\\site-packages (from nbconvert>=5->notebook->pyodesys>=0.14.1->chempy) (0.1.2)\n",
      "Requirement already satisfied: MarkupSafe>=2.0 in c:\\users\\vinn\\anaconda3\\lib\\site-packages (from nbconvert>=5->notebook->pyodesys>=0.14.1->chempy) (2.1.1)\n",
      "Requirement already satisfied: mistune<2,>=0.8.1 in c:\\users\\vinn\\anaconda3\\lib\\site-packages (from nbconvert>=5->notebook->pyodesys>=0.14.1->chempy) (0.8.4)\n",
      "Requirement already satisfied: nbclient>=0.5.0 in c:\\users\\vinn\\anaconda3\\lib\\site-packages (from nbconvert>=5->notebook->pyodesys>=0.14.1->chempy) (0.5.13)\n",
      "Requirement already satisfied: pandocfilters>=1.4.1 in c:\\users\\vinn\\anaconda3\\lib\\site-packages (from nbconvert>=5->notebook->pyodesys>=0.14.1->chempy) (1.5.0)\n",
      "Requirement already satisfied: pygments>=2.4.1 in c:\\users\\vinn\\anaconda3\\lib\\site-packages (from nbconvert>=5->notebook->pyodesys>=0.14.1->chempy) (2.15.1)\n",
      "Requirement already satisfied: tinycss2 in c:\\users\\vinn\\anaconda3\\lib\\site-packages (from nbconvert>=5->notebook->pyodesys>=0.14.1->chempy) (1.2.1)\n",
      "Requirement already satisfied: fastjsonschema in c:\\users\\vinn\\anaconda3\\lib\\site-packages (from nbformat->notebook->pyodesys>=0.14.1->chempy) (2.16.2)\n",
      "Requirement already satisfied: jsonschema>=2.6 in c:\\users\\vinn\\anaconda3\\lib\\site-packages (from nbformat->notebook->pyodesys>=0.14.1->chempy) (4.17.3)\n",
      "Requirement already satisfied: pywinpty>=1.1.0 in c:\\users\\vinn\\anaconda3\\lib\\site-packages (from terminado>=0.8.3->notebook->pyodesys>=0.14.1->chempy) (2.0.10)\n",
      "Requirement already satisfied: argon2-cffi-bindings in c:\\users\\vinn\\anaconda3\\lib\\site-packages (from argon2-cffi->notebook->pyodesys>=0.14.1->chempy) (21.2.0)\n",
      "Requirement already satisfied: comm>=0.1.1 in c:\\users\\vinn\\anaconda3\\lib\\site-packages (from ipykernel->notebook->pyodesys>=0.14.1->chempy) (0.1.2)\n",
      "Requirement already satisfied: debugpy>=1.6.5 in c:\\users\\vinn\\anaconda3\\lib\\site-packages (from ipykernel->notebook->pyodesys>=0.14.1->chempy) (1.6.7)\n",
      "Requirement already satisfied: ipython>=7.23.1 in c:\\users\\vinn\\anaconda3\\lib\\site-packages (from ipykernel->notebook->pyodesys>=0.14.1->chempy) (8.15.0)\n",
      "Requirement already satisfied: matplotlib-inline>=0.1 in c:\\users\\vinn\\anaconda3\\lib\\site-packages (from ipykernel->notebook->pyodesys>=0.14.1->chempy) (0.1.6)\n",
      "Requirement already satisfied: psutil in c:\\users\\vinn\\anaconda3\\lib\\site-packages (from ipykernel->notebook->pyodesys>=0.14.1->chempy) (5.9.0)\n",
      "Requirement already satisfied: backcall in c:\\users\\vinn\\anaconda3\\lib\\site-packages (from ipython>=7.23.1->ipykernel->notebook->pyodesys>=0.14.1->chempy) (0.2.0)\n",
      "Requirement already satisfied: decorator in c:\\users\\vinn\\anaconda3\\lib\\site-packages (from ipython>=7.23.1->ipykernel->notebook->pyodesys>=0.14.1->chempy) (5.1.1)\n",
      "Requirement already satisfied: jedi>=0.16 in c:\\users\\vinn\\anaconda3\\lib\\site-packages (from ipython>=7.23.1->ipykernel->notebook->pyodesys>=0.14.1->chempy) (0.18.1)\n",
      "Requirement already satisfied: pickleshare in c:\\users\\vinn\\anaconda3\\lib\\site-packages (from ipython>=7.23.1->ipykernel->notebook->pyodesys>=0.14.1->chempy) (0.7.5)\n",
      "Requirement already satisfied: prompt-toolkit!=3.0.37,<3.1.0,>=3.0.30 in c:\\users\\vinn\\anaconda3\\lib\\site-packages (from ipython>=7.23.1->ipykernel->notebook->pyodesys>=0.14.1->chempy) (3.0.36)\n",
      "Requirement already satisfied: stack-data in c:\\users\\vinn\\anaconda3\\lib\\site-packages (from ipython>=7.23.1->ipykernel->notebook->pyodesys>=0.14.1->chempy) (0.2.0)\n",
      "Requirement already satisfied: colorama in c:\\users\\vinn\\anaconda3\\lib\\site-packages (from ipython>=7.23.1->ipykernel->notebook->pyodesys>=0.14.1->chempy) (0.4.6)\n",
      "Requirement already satisfied: attrs>=17.4.0 in c:\\users\\vinn\\anaconda3\\lib\\site-packages (from jsonschema>=2.6->nbformat->notebook->pyodesys>=0.14.1->chempy) (22.1.0)\n",
      "Requirement already satisfied: pyrsistent!=0.17.0,!=0.17.1,!=0.17.2,>=0.14.0 in c:\\users\\vinn\\anaconda3\\lib\\site-packages (from jsonschema>=2.6->nbformat->notebook->pyodesys>=0.14.1->chempy) (0.18.0)\n",
      "Requirement already satisfied: anyio<4,>=3.1.0 in c:\\users\\vinn\\anaconda3\\lib\\site-packages (from jupyter-server>=1.8->nbclassic>=0.4.7->notebook->pyodesys>=0.14.1->chempy) (3.5.0)\n",
      "Requirement already satisfied: websocket-client in c:\\users\\vinn\\anaconda3\\lib\\site-packages (from jupyter-server>=1.8->nbclassic>=0.4.7->notebook->pyodesys>=0.14.1->chempy) (0.58.0)\n",
      "Requirement already satisfied: cffi>=1.0.1 in c:\\users\\vinn\\anaconda3\\lib\\site-packages (from argon2-cffi-bindings->argon2-cffi->notebook->pyodesys>=0.14.1->chempy) (1.15.1)\n",
      "Requirement already satisfied: soupsieve>1.2 in c:\\users\\vinn\\anaconda3\\lib\\site-packages (from beautifulsoup4->nbconvert>=5->notebook->pyodesys>=0.14.1->chempy) (2.4)\n",
      "Requirement already satisfied: webencodings in c:\\users\\vinn\\anaconda3\\lib\\site-packages (from bleach->nbconvert>=5->notebook->pyodesys>=0.14.1->chempy) (0.5.1)\n",
      "Requirement already satisfied: idna>=2.8 in c:\\users\\vinn\\anaconda3\\lib\\site-packages (from anyio<4,>=3.1.0->jupyter-server>=1.8->nbclassic>=0.4.7->notebook->pyodesys>=0.14.1->chempy) (3.4)\n",
      "Requirement already satisfied: sniffio>=1.1 in c:\\users\\vinn\\anaconda3\\lib\\site-packages (from anyio<4,>=3.1.0->jupyter-server>=1.8->nbclassic>=0.4.7->notebook->pyodesys>=0.14.1->chempy) (1.2.0)\n",
      "Requirement already satisfied: pycparser in c:\\users\\vinn\\anaconda3\\lib\\site-packages (from cffi>=1.0.1->argon2-cffi-bindings->argon2-cffi->notebook->pyodesys>=0.14.1->chempy) (2.21)\n",
      "Requirement already satisfied: parso<0.9.0,>=0.8.0 in c:\\users\\vinn\\anaconda3\\lib\\site-packages (from jedi>=0.16->ipython>=7.23.1->ipykernel->notebook->pyodesys>=0.14.1->chempy) (0.8.3)\n",
      "Requirement already satisfied: wcwidth in c:\\users\\vinn\\anaconda3\\lib\\site-packages (from prompt-toolkit!=3.0.37,<3.1.0,>=3.0.30->ipython>=7.23.1->ipykernel->notebook->pyodesys>=0.14.1->chempy) (0.2.5)\n",
      "Requirement already satisfied: executing in c:\\users\\vinn\\anaconda3\\lib\\site-packages (from stack-data->ipython>=7.23.1->ipykernel->notebook->pyodesys>=0.14.1->chempy) (0.8.3)\n",
      "Requirement already satisfied: asttokens in c:\\users\\vinn\\anaconda3\\lib\\site-packages (from stack-data->ipython>=7.23.1->ipykernel->notebook->pyodesys>=0.14.1->chempy) (2.0.5)\n",
      "Requirement already satisfied: pure-eval in c:\\users\\vinn\\anaconda3\\lib\\site-packages (from stack-data->ipython>=7.23.1->ipykernel->notebook->pyodesys>=0.14.1->chempy) (0.2.2)\n",
      "Note: you may need to restart the kernel to use updated packages.\n"
     ]
    }
   ],
   "source": [
    "pip install chempy"
   ]
  },
  {
   "cell_type": "code",
   "execution_count": 1,
   "id": "8bf28163",
   "metadata": {},
   "outputs": [
    {
     "ename": "NameError",
     "evalue": "name 'Reynolds' is not defined",
     "output_type": "error",
     "traceback": [
      "\u001b[1;31m---------------------------------------------------------------------------\u001b[0m",
      "\u001b[1;31mNameError\u001b[0m                                 Traceback (most recent call last)",
      "Cell \u001b[1;32mIn[1], line 3\u001b[0m\n\u001b[0;32m      1\u001b[0m \u001b[38;5;28;01mimport\u001b[39;00m \u001b[38;5;21;01mchempy\u001b[39;00m\n\u001b[1;32m----> 3\u001b[0m Re \u001b[38;5;241m=\u001b[39m Reynolds(V\u001b[38;5;241m=\u001b[39m\u001b[38;5;241m30\u001b[39m, rho\u001b[38;5;241m=\u001b[39m\u001b[38;5;241m1.2\u001b[39m, mu\u001b[38;5;241m=\u001b[39m\u001b[38;5;241m1E-5\u001b[39m, D\u001b[38;5;241m=\u001b[39m\u001b[38;5;241m1E-3\u001b[39m)\n",
      "\u001b[1;31mNameError\u001b[0m: name 'Reynolds' is not defined"
     ]
    }
   ],
   "source": [
    "import chempy\n",
    "\n",
    "Re = Reynolds(V=30, rho=1.2, mu=1E-5, D=1E-3)"
   ]
  },
  {
   "cell_type": "code",
   "execution_count": 2,
   "id": "83193c22",
   "metadata": {},
   "outputs": [
    {
     "ename": "ModuleNotFoundError",
     "evalue": "No module named 'chempy.fluid'",
     "output_type": "error",
     "traceback": [
      "\u001b[1;31m---------------------------------------------------------------------------\u001b[0m",
      "\u001b[1;31mModuleNotFoundError\u001b[0m                       Traceback (most recent call last)",
      "Cell \u001b[1;32mIn[2], line 1\u001b[0m\n\u001b[1;32m----> 1\u001b[0m \u001b[38;5;28;01mimport\u001b[39;00m \u001b[38;5;21;01mchempy\u001b[39;00m\u001b[38;5;21;01m.\u001b[39;00m\u001b[38;5;21;01mfluid\u001b[39;00m\n",
      "\u001b[1;31mModuleNotFoundError\u001b[0m: No module named 'chempy.fluid'"
     ]
    }
   ],
   "source": [
    "import chempy.fluid\n"
   ]
  },
  {
   "cell_type": "code",
   "execution_count": 3,
   "id": "68a88967",
   "metadata": {},
   "outputs": [
    {
     "ename": "ModuleNotFoundError",
     "evalue": "No module named 'chempy.fluid'",
     "output_type": "error",
     "traceback": [
      "\u001b[1;31m---------------------------------------------------------------------------\u001b[0m",
      "\u001b[1;31mModuleNotFoundError\u001b[0m                       Traceback (most recent call last)",
      "Cell \u001b[1;32mIn[3], line 1\u001b[0m\n\u001b[1;32m----> 1\u001b[0m \u001b[38;5;28;01mimport\u001b[39;00m \u001b[38;5;21;01mchempy\u001b[39;00m\u001b[38;5;21;01m.\u001b[39;00m\u001b[38;5;21;01mfluid\u001b[39;00m\n\u001b[0;32m      2\u001b[0m chempy\u001b[38;5;241m.\u001b[39mfluid\u001b[38;5;241m.\u001b[39mReynolds(\u001b[38;5;241m.\u001b[39m\u001b[38;5;241m.\u001b[39m\u001b[38;5;241m.\u001b[39m)\n",
      "\u001b[1;31mModuleNotFoundError\u001b[0m: No module named 'chempy.fluid'"
     ]
    }
   ],
   "source": [
    "import chempy.fluid\n",
    "chempy.fluid.Reynolds(...)"
   ]
  },
  {
   "cell_type": "code",
   "execution_count": 4,
   "id": "c4c2458c",
   "metadata": {},
   "outputs": [
    {
     "name": "stdout",
     "output_type": "stream",
     "text": [
      "Note: you may need to restart the kernel to use updated packages.\n"
     ]
    },
    {
     "name": "stderr",
     "output_type": "stream",
     "text": [
      "ERROR: Could not find a version that satisfies the requirement chempy.fluid (from versions: none)\n",
      "ERROR: No matching distribution found for chempy.fluid\n"
     ]
    }
   ],
   "source": [
    "pip install chempy.fluid"
   ]
  },
  {
   "cell_type": "code",
   "execution_count": 5,
   "id": "d0d594dc",
   "metadata": {},
   "outputs": [
    {
     "name": "stdout",
     "output_type": "stream",
     "text": [
      "Collecting fluids\n",
      "  Obtaining dependency information for fluids from https://files.pythonhosted.org/packages/d4/ca/803bddb96af07a8bac8d194b4699f6492dab141e1d593adf0ff611f142d5/fluids-1.0.25-py3-none-any.whl.metadata\n",
      "  Downloading fluids-1.0.25-py3-none-any.whl.metadata (7.1 kB)\n",
      "Requirement already satisfied: numpy>=1.5.0 in c:\\users\\vinn\\anaconda3\\lib\\site-packages (from fluids) (1.24.3)\n",
      "Requirement already satisfied: scipy>=0.9.0 in c:\\users\\vinn\\anaconda3\\lib\\site-packages (from fluids) (1.11.1)\n",
      "Downloading fluids-1.0.25-py3-none-any.whl (1.5 MB)\n",
      "   ---------------------------------------- 0.0/1.5 MB ? eta -:--:--\n",
      "   ---------------------------------------- 0.0/1.5 MB ? eta -:--:--\n",
      "   - -------------------------------------- 0.0/1.5 MB 487.6 kB/s eta 0:00:04\n",
      "   ---- ----------------------------------- 0.2/1.5 MB 1.7 MB/s eta 0:00:01\n",
      "   -------------------------- ------------- 1.0/1.5 MB 6.5 MB/s eta 0:00:01\n",
      "   --------------------------- ------------ 1.0/1.5 MB 6.6 MB/s eta 0:00:01\n",
      "   --------------------------- ------------ 1.0/1.5 MB 6.6 MB/s eta 0:00:01\n",
      "   --------------------------- ------------ 1.0/1.5 MB 6.6 MB/s eta 0:00:01\n",
      "   --------------------------- ------------ 1.0/1.5 MB 6.6 MB/s eta 0:00:01\n",
      "   ---------------------------------- ----- 1.3/1.5 MB 3.3 MB/s eta 0:00:01\n",
      "   ---------------------------------------- 1.5/1.5 MB 3.6 MB/s eta 0:00:00\n",
      "Installing collected packages: fluids\n",
      "Successfully installed fluids-1.0.25\n",
      "Note: you may need to restart the kernel to use updated packages.\n"
     ]
    }
   ],
   "source": [
    "pip install fluids\n"
   ]
  },
  {
   "cell_type": "code",
   "execution_count": 6,
   "id": "23f91b2d",
   "metadata": {},
   "outputs": [],
   "source": [
    "import fluids"
   ]
  },
  {
   "cell_type": "code",
   "execution_count": 13,
   "id": "09abf38b",
   "metadata": {},
   "outputs": [],
   "source": [
    "Re = fluids.Reynolds(V=15, rho=1.2, mu=1E-5, D=1E-3)"
   ]
  },
  {
   "cell_type": "code",
   "execution_count": 9,
   "id": "c77ee198",
   "metadata": {},
   "outputs": [
    {
     "data": {
      "text/plain": [
       "3599.9999999999995"
      ]
     },
     "execution_count": 9,
     "metadata": {},
     "output_type": "execute_result"
    }
   ],
   "source": [
    "Re"
   ]
  },
  {
   "cell_type": "code",
   "execution_count": 10,
   "id": "0480a793",
   "metadata": {},
   "outputs": [
    {
     "ename": "NameError",
     "evalue": "name 'Reynolds' is not defined",
     "output_type": "error",
     "traceback": [
      "\u001b[1;31m---------------------------------------------------------------------------\u001b[0m",
      "\u001b[1;31mNameError\u001b[0m                                 Traceback (most recent call last)",
      "Cell \u001b[1;32mIn[10], line 1\u001b[0m\n\u001b[1;32m----> 1\u001b[0m Re \u001b[38;5;241m=\u001b[39m Reynolds(V\u001b[38;5;241m=\u001b[39m\u001b[38;5;241m15\u001b[39m, rho\u001b[38;5;241m=\u001b[39m\u001b[38;5;241m1.2\u001b[39m, mu\u001b[38;5;241m=\u001b[39m\u001b[38;5;241m1E-5\u001b[39m, D\u001b[38;5;241m=\u001b[39m\u001b[38;5;241m1E-3\u001b[39m)\n",
      "\u001b[1;31mNameError\u001b[0m: name 'Reynolds' is not defined"
     ]
    }
   ],
   "source": [
    "Re = Reynolds(V=15, rho=1.2, mu=1E-5, D=1E-3)"
   ]
  },
  {
   "cell_type": "code",
   "execution_count": 14,
   "id": "768c883c",
   "metadata": {},
   "outputs": [],
   "source": [
    "Re = fluids.Reynolds(V=15, rho=1.2, mu=1E-5, D=1E-3)"
   ]
  },
  {
   "cell_type": "code",
   "execution_count": 15,
   "id": "c384708e",
   "metadata": {},
   "outputs": [
    {
     "data": {
      "text/plain": [
       "1799.9999999999998"
      ]
     },
     "execution_count": 15,
     "metadata": {},
     "output_type": "execute_result"
    }
   ],
   "source": [
    "Re"
   ]
  },
  {
   "cell_type": "code",
   "execution_count": 16,
   "id": "0c5891f1",
   "metadata": {},
   "outputs": [
    {
     "ename": "NameError",
     "evalue": "name 'drag_sphere' is not defined",
     "output_type": "error",
     "traceback": [
      "\u001b[1;31m---------------------------------------------------------------------------\u001b[0m",
      "\u001b[1;31mNameError\u001b[0m                                 Traceback (most recent call last)",
      "Cell \u001b[1;32mIn[16], line 1\u001b[0m\n\u001b[1;32m----> 1\u001b[0m drag_sphere(Re)\n",
      "\u001b[1;31mNameError\u001b[0m: name 'drag_sphere' is not defined"
     ]
    }
   ],
   "source": [
    "drag_sphere(Re)"
   ]
  },
  {
   "cell_type": "code",
   "execution_count": 18,
   "id": "90b834cf",
   "metadata": {},
   "outputs": [],
   "source": [
    "from fluids import *"
   ]
  },
  {
   "cell_type": "code",
   "execution_count": 19,
   "id": "c5dd4d92",
   "metadata": {},
   "outputs": [
    {
     "data": {
      "text/plain": [
       "0.4198338330390446"
      ]
     },
     "execution_count": 19,
     "metadata": {},
     "output_type": "execute_result"
    }
   ],
   "source": [
    "drag_sphere(Re)"
   ]
  },
  {
   "cell_type": "code",
   "execution_count": 20,
   "id": "98e462ef",
   "metadata": {},
   "outputs": [],
   "source": [
    "Re = Reynolds(V=30, rho=1.2, mu=1E-5, D=1E-3)"
   ]
  },
  {
   "cell_type": "code",
   "execution_count": 21,
   "id": "8da2379a",
   "metadata": {},
   "outputs": [
    {
     "data": {
      "text/plain": [
       "0.3914804681941151"
      ]
     },
     "execution_count": 21,
     "metadata": {},
     "output_type": "execute_result"
    }
   ],
   "source": [
    "drag_sphere(Re)"
   ]
  },
  {
   "cell_type": "code",
   "execution_count": 22,
   "id": "ac985a1d",
   "metadata": {},
   "outputs": [
    {
     "data": {
      "text/plain": [
       "8.971223953182937"
      ]
     },
     "execution_count": 22,
     "metadata": {},
     "output_type": "execute_result"
    }
   ],
   "source": [
    "v_terminal(D=1E-3, rhop=3400, rho=1.2, mu=1E-5)"
   ]
  },
  {
   "cell_type": "code",
   "execution_count": 23,
   "id": "f5eb0ada",
   "metadata": {},
   "outputs": [
    {
     "data": {
      "text/plain": [
       "(10.561878111165337, 15.60790417771552)"
      ]
     },
     "execution_count": 23,
     "metadata": {},
     "output_type": "execute_result"
    }
   ],
   "source": [
    "integrate_drag_sphere(D=1E-3, rhop=3400., rho=1.2, mu=1E-5, t=1, V=30, distance=True)"
   ]
  },
  {
   "cell_type": "code",
   "execution_count": 24,
   "id": "ce01d743",
   "metadata": {},
   "outputs": [
    {
     "data": {
      "text/plain": [
       "(8.971223987066322, 97.13276290361276)"
      ]
     },
     "execution_count": 24,
     "metadata": {},
     "output_type": "execute_result"
    }
   ],
   "source": [
    "integrate_drag_sphere(D=1E-3, rhop=3400., rho=1.2, mu=1E-5, t=10, V=30, distance=True)"
   ]
  },
  {
   "cell_type": "code",
   "execution_count": 25,
   "id": "cf6e2815",
   "metadata": {},
   "outputs": [
    {
     "name": "stdout",
     "output_type": "stream",
     "text": [
      "Collecting ht\n",
      "  Obtaining dependency information for ht from https://files.pythonhosted.org/packages/cc/55/f7c715a3defa9b6bbf9cd80e62b46a5a7d040b63b6149b579b102c31bd5c/ht-1.0.5-py3-none-any.whl.metadata\n",
      "  Downloading ht-1.0.5-py3-none-any.whl.metadata (6.1 kB)\n",
      "Requirement already satisfied: fluids>=1.0.24 in c:\\users\\vinn\\anaconda3\\lib\\site-packages (from ht) (1.0.25)\n",
      "Requirement already satisfied: numpy>=1.5.0 in c:\\users\\vinn\\anaconda3\\lib\\site-packages (from ht) (1.24.3)\n",
      "Requirement already satisfied: scipy>=0.9.0 in c:\\users\\vinn\\anaconda3\\lib\\site-packages (from ht) (1.11.1)\n",
      "Downloading ht-1.0.5-py3-none-any.whl (810 kB)\n",
      "   ---------------------------------------- 0.0/810.5 kB ? eta -:--:--\n",
      "    --------------------------------------- 10.2/810.5 kB ? eta -:--:--\n",
      "   - ------------------------------------- 41.0/810.5 kB 653.6 kB/s eta 0:00:02\n",
      "   -------------------- ------------------- 409.6/810.5 kB 4.2 MB/s eta 0:00:01\n",
      "   ---------------------------------------- 810.5/810.5 kB 6.4 MB/s eta 0:00:00\n",
      "Installing collected packages: ht\n",
      "Successfully installed ht-1.0.5\n",
      "Note: you may need to restart the kernel to use updated packages.\n"
     ]
    }
   ],
   "source": [
    "pip install ht"
   ]
  },
  {
   "cell_type": "code",
   "execution_count": 26,
   "id": "3909d53d",
   "metadata": {},
   "outputs": [],
   "source": [
    "from ht import *"
   ]
  },
  {
   "cell_type": "code",
   "execution_count": 28,
   "id": "f5b0aafa",
   "metadata": {},
   "outputs": [],
   "source": [
    "from ht import *"
   ]
  },
  {
   "cell_type": "code",
   "execution_count": 29,
   "id": "25aa1cff",
   "metadata": {},
   "outputs": [],
   "source": [
    "from ht import *"
   ]
  },
  {
   "cell_type": "code",
   "execution_count": 30,
   "id": "28d58e28",
   "metadata": {},
   "outputs": [
    {
     "data": {
      "text/plain": [
       "247.40036409449127"
      ]
     },
     "execution_count": 30,
     "metadata": {},
     "output_type": "execute_result"
    }
   ],
   "source": [
    "turbulent_Dittus_Boelter(Re=1E5, Pr=1.2)"
   ]
  },
  {
   "cell_type": "code",
   "execution_count": 50,
   "id": "cf0a31c3",
   "metadata": {},
   "outputs": [
    {
     "name": "stdout",
     "output_type": "stream",
     "text": [
      "3.141592653589793 33826.76792601389\n",
      "The outlet gas temperature is 543.107260836771 degree C\n"
     ]
    }
   ],
   "source": [
    "import math\n",
    "from ht import *\n",
    "\n",
    "# Values extracted from question\n",
    "L = 6\n",
    "D = 0.5\n",
    "Tmi = 600\n",
    "Tinf = 4\n",
    "massflow = 0.5\n",
    "windspeed = 5\n",
    "\n",
    "# For internal flow\n",
    "# Values of exhaust gases (air) at 873K from table\n",
    "k1 = 0.0584\n",
    "Cp1 = 1104\n",
    "viscosity1 = 376.4 * 10**(-7)\n",
    "Pr1 = 0.712\n",
    "\n",
    "Re1 = (4*massflow)/(math.pi*D*viscosity1)\n",
    "# From ht module\n",
    "Nu1 = turbulent_Dittus_Boelter(Re=Re1, Pr=Pr1, heating=False, revised=True)\n",
    "h1 = ((Nu1*k1)/D)\n",
    "\n",
    "# For External Flow\n",
    "# Values of ambient air at 277K from table\n",
    "k2 = 33.8 * 10**(-3)\n",
    "kviscosity2 = 26.41 * 10**(-6)\n",
    "Pr2 = 0.690\n",
    "\n",
    "Re2 = (windspeed*D/kviscosity2)\n",
    "# From ht module\n",
    "Nu2 = Nu_cylinder_Churchill_Bernstein(Re2, Pr2)\n",
    "h2 = ((Nu2 * k2)/D)\n",
    "\n",
    "# Overall convection heat transfer coefficient, U\n",
    "U = (1/((1/h1) + (1/h2)))\n",
    "\n",
    "# Using the formula (Tinf - Tm,o)/(Tinf - Tm,i) = exp(-A*U/m*Cp), Tm,o is found\n",
    "T = Tinf - math.exp(((-(math.pi)*D*L)/(massflow*Cp1))*U)*(Tinf-Tmi)\n",
    "print(f'The outlet gas temperature is {T} degree C' )"
   ]
  },
  {
   "cell_type": "code",
   "execution_count": null,
   "id": "9d6768b3",
   "metadata": {},
   "outputs": [],
   "source": []
  }
 ],
 "metadata": {
  "kernelspec": {
   "display_name": "Python 3 (ipykernel)",
   "language": "python",
   "name": "python3"
  },
  "language_info": {
   "codemirror_mode": {
    "name": "ipython",
    "version": 3
   },
   "file_extension": ".py",
   "mimetype": "text/x-python",
   "name": "python",
   "nbconvert_exporter": "python",
   "pygments_lexer": "ipython3",
   "version": "3.11.5"
  }
 },
 "nbformat": 4,
 "nbformat_minor": 5
}
