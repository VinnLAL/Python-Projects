{
 "cells": [
  {
   "cell_type": "code",
   "execution_count": 3,
   "id": "57021eee",
   "metadata": {},
   "outputs": [
    {
     "name": "stdout",
     "output_type": "stream",
     "text": [
      "Satminder is enrolled in Heat Transfer class.\n"
     ]
    }
   ],
   "source": [
    "# Positional Arguments\n",
    "def student_information(class_name, student_name):\n",
    "    # Display information about a student and his class.\n",
    "    print(student_name + \" is enrolled in \" + class_name + \" class.\")\n",
    "\n",
    "student_information(\"Heat Transfer\", \"Satminder\")"
   ]
  },
  {
   "cell_type": "code",
   "execution_count": null,
   "id": "6feb0139",
   "metadata": {},
   "outputs": [],
   "source": []
  },
  {
   "cell_type": "code",
   "execution_count": 6,
   "id": "529bbdc4",
   "metadata": {},
   "outputs": [
    {
     "name": "stdout",
     "output_type": "stream",
     "text": [
      "Satminder is enrolled in Heat Transfer class.\n"
     ]
    }
   ],
   "source": [
    "# Keyword Arguments\n",
    "def student_information(class_name, student_name):\n",
    "    # Display information about a student and his class.\n",
    "    print(student_name + \" is enrolled in \" + class_name + \" class.\")\n",
    "\n",
    "student_information(student_name = \"Satminder\", class_name = \"Heat Transfer\")\n"
   ]
  },
  {
   "cell_type": "markdown",
   "id": "acb960fa",
   "metadata": {},
   "source": []
  },
  {
   "cell_type": "code",
   "execution_count": 17,
   "id": "8220c449",
   "metadata": {},
   "outputs": [
    {
     "name": "stdout",
     "output_type": "stream",
     "text": [
      "Area = 10 and Perimeter = 14\n"
     ]
    }
   ],
   "source": [
    "# Default Arguments\n",
    "def area_perimeter(width=2, height=2):\n",
    "    area = width * height\n",
    "    perimeter = (2 * width) + (2 * height)\n",
    "\n",
    "    print(\"Area =\" , area , \"and Perimeter =\" , perimeter)\n",
    "\n",
    "area_perimeter(height=5)"
   ]
  },
  {
   "cell_type": "code",
   "execution_count": null,
   "id": "99e2980b",
   "metadata": {},
   "outputs": [],
   "source": []
  },
  {
   "cell_type": "code",
   "execution_count": null,
   "id": "e2e20014",
   "metadata": {},
   "outputs": [],
   "source": []
  }
 ],
 "metadata": {
  "kernelspec": {
   "display_name": "Python 3 (ipykernel)",
   "language": "python",
   "name": "python3"
  },
  "language_info": {
   "codemirror_mode": {
    "name": "ipython",
    "version": 3
   },
   "file_extension": ".py",
   "mimetype": "text/x-python",
   "name": "python",
   "nbconvert_exporter": "python",
   "pygments_lexer": "ipython3",
   "version": "3.11.5"
  }
 },
 "nbformat": 4,
 "nbformat_minor": 5
}
