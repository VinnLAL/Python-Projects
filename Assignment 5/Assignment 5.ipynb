{
 "cells": [
  {
   "cell_type": "code",
   "execution_count": 5,
   "id": "1b1d8c7b",
   "metadata": {},
   "outputs": [],
   "source": [
    "import csv\n",
    "with open('students (1).csv', 'r') as file:\n",
    "    #List of dictionaries\n",
    "    csv_reader = csv.reader(file)\n",
    "    \n",
    "    loop = 0\n",
    "    topstudents = []\n",
    "    # row is a list\n",
    "    for row in csv_reader:\n",
    "        if loop == 0:\n",
    "            row.append(\"Status\")\n",
    "            topstudents.append(row)\n",
    "        if row[2] <= 'B':\n",
    "            row.append(\"Passed\")\n",
    "            topstudents.append(row)\n",
    "        loop = loop + 1\n",
    "with open('top_students.csv', 'w', newline='') as file:\n",
    "    writer = csv.writer(file)\n",
    "    \n",
    "    for row in topstudents:\n",
    "        writer.writerow(row)\n",
    "\n"
   ]
  },
  {
   "cell_type": "code",
   "execution_count": 6,
   "id": "4c2bfd2f",
   "metadata": {},
   "outputs": [
    {
     "name": "stdout",
     "output_type": "stream",
     "text": [
      "Enter the name of a state: Kelantan\n",
      "Population of Kelantan: 1928800\n"
     ]
    }
   ],
   "source": [
    "import requests\n",
    "api_url = \"https://jian.sh/malaysia-api/state/v1/all.json\"\n",
    "response = requests.get(api_url)\n",
    "malaysia_state_data = response.json()\n",
    "statename = input(\"Enter the name of a state: \")\n",
    "\n",
    "presence = False\n",
    "\n",
    "for state in malaysia_state_data:\n",
    "        if statename == state[\"state\"]:\n",
    "            print(\"Population of \" + statename +\": \" + str(state[\"population\"]))\n",
    "            presence = True\n",
    "            break\n",
    "if presence == False:\n",
    "    print(statename + \" is not a state in Malaysia.\")\n"
   ]
  },
  {
   "cell_type": "code",
   "execution_count": null,
   "id": "5a51d5b6",
   "metadata": {},
   "outputs": [],
   "source": []
  }
 ],
 "metadata": {
  "kernelspec": {
   "display_name": "Python 3 (ipykernel)",
   "language": "python",
   "name": "python3"
  },
  "language_info": {
   "codemirror_mode": {
    "name": "ipython",
    "version": 3
   },
   "file_extension": ".py",
   "mimetype": "text/x-python",
   "name": "python",
   "nbconvert_exporter": "python",
   "pygments_lexer": "ipython3",
   "version": "3.11.5"
  }
 },
 "nbformat": 4,
 "nbformat_minor": 5
}
