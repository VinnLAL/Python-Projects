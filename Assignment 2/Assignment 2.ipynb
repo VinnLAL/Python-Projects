{
 "cells": [
  {
   "cell_type": "code",
   "execution_count": 1,
   "id": "ced41d8d",
   "metadata": {},
   "outputs": [
    {
     "name": "stdout",
     "output_type": "stream",
     "text": [
      "20.5\n",
      "9.8\n",
      "10\n",
      "2.0\n"
     ]
    }
   ],
   "source": [
    "# Exercise 1\n",
    "def sum(a,b):\n",
    "    # Sum of two values\n",
    "    return a+b\n",
    "\n",
    "def sub(a,b):\n",
    "    # Difference between two values\n",
    "    return a-b\n",
    "\n",
    "def mult(a,b):\n",
    "    # Multiply two values\n",
    "    return a*b\n",
    "\n",
    "def div(a,b):\n",
    "    # Division\n",
    "    return a/b\n",
    "\n",
    "print(sum(10,10.5))\n",
    "print (sub(20,10.2))\n",
    "print(mult(2,5))\n",
    "print(div(10,5))"
   ]
  },
  {
   "cell_type": "code",
   "execution_count": 4,
   "id": "f848afaa",
   "metadata": {},
   "outputs": [
    {
     "name": "stdout",
     "output_type": "stream",
     "text": [
      "Please enter the name of the subject: Software\n",
      "the subject is available!\n"
     ]
    }
   ],
   "source": [
    "# Exercise 2\n",
    "subjects = [\"Software\", \"Fluid Mechanics\", \"Thermodynamics\", \"Heat Transfer\"]\n",
    "\n",
    "def subject_availability(subject_name):\n",
    "    if(is_available(subject_name)):\n",
    "        return \"the subject is available!\"\n",
    "    else:\n",
    "        return \"the subject is not available\"\n",
    "def is_available(subject_name):\n",
    "    return subject_name in subjects\n",
    "\n",
    "input_subject = input(\"Please enter the name of the subject: \")\n",
    "print(subject_availability(input_subject))"
   ]
  },
  {
   "cell_type": "code",
   "execution_count": null,
   "id": "37533e03",
   "metadata": {},
   "outputs": [],
   "source": []
  }
 ],
 "metadata": {
  "kernelspec": {
   "display_name": "Python 3 (ipykernel)",
   "language": "python",
   "name": "python3"
  },
  "language_info": {
   "codemirror_mode": {
    "name": "ipython",
    "version": 3
   },
   "file_extension": ".py",
   "mimetype": "text/x-python",
   "name": "python",
   "nbconvert_exporter": "python",
   "pygments_lexer": "ipython3",
   "version": "3.11.5"
  }
 },
 "nbformat": 4,
 "nbformat_minor": 5
}
