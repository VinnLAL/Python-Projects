{
 "cells": [
  {
   "cell_type": "code",
   "execution_count": 2,
   "id": "b3d0fd8b",
   "metadata": {},
   "outputs": [
    {
     "name": "stdout",
     "output_type": "stream",
     "text": [
      "Enter integer: 2\n",
      "Enter another integer: 3\n",
      "5\n"
     ]
    }
   ],
   "source": []
  },
  {
   "cell_type": "code",
   "execution_count": 6,
   "id": "7db55267",
   "metadata": {},
   "outputs": [
    {
     "name": "stdout",
     "output_type": "stream",
     "text": [
      "Enter integer: 5\n",
      "Enter another integer: 3\n",
      "2\n"
     ]
    }
   ],
   "source": [
    "x2 = input(\"Enter integer: \")\n",
    "y2 = input(\"Enter another integer: \")\n",
    "subtract = float(x2) - float(y2)\n",
    "print(subtract)"
   ]
  },
  {
   "cell_type": "markdown",
   "id": "6977493e",
   "metadata": {},
   "source": [
    "#### "
   ]
  },
  {
   "cell_type": "code",
   "execution_count": 7,
   "id": "94e5fa19",
   "metadata": {},
   "outputs": [
    {
     "name": "stdout",
     "output_type": "stream",
     "text": [
      "Enter integer: 3\n",
      "Enter another integer: 5\n",
      "15.0\n"
     ]
    }
   ],
   "source": [
    "x3 = input(\"Enter integer: \")\n",
    "y3 = input(\"Enter another integer: \")\n",
    "mult = float(x3) * float(y3)\n",
    "print(mult)"
   ]
  },
  {
   "cell_type": "code",
   "execution_count": 8,
   "id": "4c0ba7a9",
   "metadata": {},
   "outputs": [
    {
     "name": "stdout",
     "output_type": "stream",
     "text": [
      "Enter integer: 15\n",
      "Enter another integer: 5\n",
      "3.0\n"
     ]
    }
   ],
   "source": [
    "x = \"11\"\n",
    "y = 20\n",
    "\n",
    "if isinstance( x , int)\n",
    "    print(\"Hello\")\n",
    "else:\n",
    "    print(\"bye\")"
   ]
  },
  {
   "cell_type": "code",
   "execution_count": 27,
   "id": "45323499",
   "metadata": {},
   "outputs": [
    {
     "name": "stdout",
     "output_type": "stream",
     "text": [
      "dict_keys(['name', 'age'])\n",
      "dict_values(['Sara', [1, 2, 3]])\n",
      "dict_items([('name', 'Sara'), ('age', [1, 2, 3])])\n",
      "3\n"
     ]
    }
   ],
   "source": [
    "student = {\n",
    "    \"name\": \"Sara\",\n",
    "    \"age\" : [1,2,3]\n",
    "}\n",
    "print(student.keys())\n",
    "print(student.values())\n",
    "print(student.items())\n",
    "print(student[\"age\"][2])\n",
    "print(student[\"age\"])"
   ]
  },
  {
   "cell_type": "code",
   "execution_count": 11,
   "id": "ca2e30ac",
   "metadata": {},
   "outputs": [
    {
     "name": "stdout",
     "output_type": "stream",
     "text": [
      "20.5\n",
      "9.8\n",
      "10\n",
      "2.0\n"
     ]
    }
   ],
   "source": [
    "def sum(a,b):\n",
    "    # Sum of two values\n",
    "    return a+b\n",
    "\n",
    "def sub(a,b):\n",
    "    # Difference between two values\n",
    "    return a-b\n",
    "\n",
    "def mult(a,b):\n",
    "    # Multiply two values\n",
    "    return a*b\n",
    "\n",
    "def div(a,b):\n",
    "    # Division\n",
    "    return a/b\n",
    "\n",
    "print(sum(10,10.5))\n",
    "print (sub(20,10.2))\n",
    "print(mult(2,5))\n",
    "print(div(10,5))"
   ]
  },
  {
   "cell_type": "code",
   "execution_count": 14,
   "id": "263a2034",
   "metadata": {},
   "outputs": [
    {
     "name": "stdout",
     "output_type": "stream",
     "text": [
      "Enter a subject: software\n",
      "The subject is not available\n"
     ]
    }
   ],
   "source": [
    "subs = [\"Software\", \"Chemistry\", \"English\" , \"Arabic\"]\n",
    "insubs = input(\"Enter a subject: \")\n",
    "status = False\n",
    "\n",
    "for subjects in subs:\n",
    "    if check == subjects:\n",
    "        status = True\n",
    "if status == True:\n",
    "    print(\"The subject is available\")\n",
    "else:\n",
    "    print(\"The subject is not available\")"
   ]
  },
  {
   "cell_type": "code",
   "execution_count": 32,
   "id": "57f569ea",
   "metadata": {},
   "outputs": [
    {
     "name": "stdout",
     "output_type": "stream",
     "text": [
      "Enter a subject: chemistry\n",
      "The subject is not available!\n",
      "\n"
     ]
    }
   ],
   "source": [
    "subs2 = [\"Software\", \"Chemistry\", \"English\" , \"Arabic\"]\n",
    "insubs2 = input(\"Enter a subject: \")\n",
    "\n",
    "def checker(subs2,insubs2):\n",
    "    if insubs2 in subs:\n",
    "        print(\"The subject is available!\")\n",
    "    else:\n",
    "        print(\"The subject is not available!\")\n",
    "    return \"\"\n",
    "print(checker(subs2,insubs2))"
   ]
  },
  {
   "cell_type": "code",
   "execution_count": 6,
   "id": "2c9f7cd8",
   "metadata": {},
   "outputs": [
    {
     "name": "stdout",
     "output_type": "stream",
     "text": [
      "Please enter the name of the subject: Heat Transfer\n",
      "the subject is available\n"
     ]
    }
   ],
   "source": [
    "subjects = [\"Software\", \"Fluid Mechanics\", \"Thermodynamics\", \"Heat Transfer\"]\n",
    "\n",
    "def subject_availability(subject_name):\n",
    "    if(is_available(subject_name)):\n",
    "        return \"the subject is available!\"\n",
    "    else:1\n",
    "        return \"the subject is not available\"\n",
    "def is_available(subject_name):\n",
    "    return subject_name in subjects\n",
    "\n",
    "input_subject = input(\"Please enter the name of the subject: \")\n",
    "print(subject_availability(input_subject))"
   ]
  },
  {
   "cell_type": "code",
   "execution_count": null,
   "id": "92968d03",
   "metadata": {},
   "outputs": [],
   "source": []
  }
 ],
 "metadata": {
  "kernelspec": {
   "display_name": "Python 3 (ipykernel)",
   "language": "python",
   "name": "python3"
  },
  "language_info": {
   "codemirror_mode": {
    "name": "ipython",
    "version": 3
   },
   "file_extension": ".py",
   "mimetype": "text/x-python",
   "name": "python",
   "nbconvert_exporter": "python",
   "pygments_lexer": "ipython3",
   "version": "3.11.5"
  }
 },
 "nbformat": 4,
 "nbformat_minor": 5
}
