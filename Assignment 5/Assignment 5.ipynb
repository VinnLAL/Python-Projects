{
 "cells": [
  {
   "cell_type": "code",
   "execution_count": 3,
   "id": "9bfc784a",
   "metadata": {},
   "outputs": [
    {
     "name": "stdout",
     "output_type": "stream",
     "text": [
      "[['Name', 'Age', 'Grade', 'Status'], ['Alice', '21', 'A', 'Passed'], ['Charlie', '18', 'B', 'Passed'], ['David', '21', 'A', 'Passed'], ['Eve', '20', 'A', 'Passed'], ['George', '19', 'A', 'Passed'], ['Isla', '22', 'A', 'Passed'], ['Jack', '21', 'B', 'Passed'], ['David', '20', 'A', 'Passed'], ['Eve', '21', 'B', 'Passed'], ['Hannah', '19', 'B', 'Passed'], ['Isla', '19', 'B', 'Passed'], ['Eve', '20', 'B', 'Passed'], ['Fiona', '19', 'B', 'Passed'], ['Hannah', '19', 'B', 'Passed'], ['Isla', '19', 'B', 'Passed'], ['Alice', '19', 'B', 'Passed'], ['Bob', '20', 'B', 'Passed'], ['Eve', '19', 'A', 'Passed'], ['Eve', '22', 'A', 'Passed'], ['Fiona', '20', 'B', 'Passed'], ['Isla', '22', 'B', 'Passed'], ['Jack', '21', 'B', 'Passed'], ['Alice', '22', 'B', 'Passed'], ['Charlie', '21', 'A', 'Passed'], ['Eve', '19', 'A', 'Passed'], ['Hannah', '20', 'B', 'Passed'], ['Isla', '18', 'A', 'Passed'], ['Fiona', '22', 'A', 'Passed'], ['Isla', '20', 'B', 'Passed'], ['Alice', '22', 'A', 'Passed'], ['David', '18', 'A', 'Passed'], ['Fiona', '19', 'A', 'Passed'], ['Hannah', '19', 'B', 'Passed'], ['Jack', '22', 'B', 'Passed'], ['Alice', '19', 'A', 'Passed'], ['Charlie', '19', 'A', 'Passed'], ['Eve', '19', 'B', 'Passed'], ['George', '22', 'A', 'Passed'], ['Alice', '18', 'A', 'Passed'], ['Bob', '19', 'B', 'Passed'], ['David', '22', 'A', 'Passed']]\n"
     ]
    }
   ],
   "source": [
    "import csv\n",
    "with open('students (1).csv', 'r') as file:\n",
    "    #List of dictionaries\n",
    "    csv_reader = csv.reader(file)\n",
    "    \n",
    "    loop = 0\n",
    "    topstudents = []\n",
    "    # row is a list\n",
    "    for row in csv_reader:\n",
    "        if loop == 0:\n",
    "            row.append(\"Status\")\n",
    "            topstudents.append(row)\n",
    "        if row[2] <= 'B':\n",
    "            row.append(\"Passed\")\n",
    "            topstudents.append(row)\n",
    "        loop = loop + 1\n",
    "    print(topstudents)\n",
    "with open('top_students.csv', 'w', newline='') as file:\n",
    "    writer = csv.writer(file)\n",
    "    \n",
    "    for row in topstudents:\n",
    "        writer.writerow(row)\n",
    "\n"
   ]
  },
  {
   "cell_type": "code",
   "execution_count": 4,
   "id": "8f1493f9",
   "metadata": {},
   "outputs": [
    {
     "name": "stdout",
     "output_type": "stream",
     "text": [
      "Enter the name of a state: Johor\n",
      "Population of Johor: 3794000\n"
     ]
    }
   ],
   "source": [
    "import requests\n",
    "api_url = \"https://jian.sh/malaysia-api/state/v1/all.json\"\n",
    "response = requests.get(api_url)\n",
    "malaysia_state_data = response.json()\n",
    "statename = input(\"Enter the name of a state: \")\n",
    "\n",
    "presence = False\n",
    "\n",
    "for state in malaysia_state_data:\n",
    "        if statename == state[\"state\"]:\n",
    "            print(\"Population of \" + statename +\": \" + str(state[\"population\"]))\n",
    "            presence = True\n",
    "            break\n",
    "if presence == False:\n",
    "    print(statename + \" is not a state in Malaysia.\")\n"
   ]
  },
  {
   "cell_type": "code",
   "execution_count": null,
   "id": "04500a27",
   "metadata": {},
   "outputs": [],
   "source": []
  }
 ],
 "metadata": {
  "kernelspec": {
   "display_name": "Python 3 (ipykernel)",
   "language": "python",
   "name": "python3"
  },
  "language_info": {
   "codemirror_mode": {
    "name": "ipython",
    "version": 3
   },
   "file_extension": ".py",
   "mimetype": "text/x-python",
   "name": "python",
   "nbconvert_exporter": "python",
   "pygments_lexer": "ipython3",
   "version": "3.11.5"
  }
 },
 "nbformat": 4,
 "nbformat_minor": 5
}
